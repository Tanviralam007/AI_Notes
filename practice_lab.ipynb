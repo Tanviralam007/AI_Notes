{
  "metadata": {
    "kernelspec": {
      "name": "python",
      "display_name": "Python (Pyodide)",
      "language": "python"
    },
    "language_info": {
      "codemirror_mode": {
        "name": "python",
        "version": 3
      },
      "file_extension": ".py",
      "mimetype": "text/x-python",
      "name": "python",
      "nbconvert_exporter": "python",
      "pygments_lexer": "ipython3",
      "version": "3.8"
    }
  },
  "nbformat_minor": 4,
  "nbformat": 4,
  "cells": [
    {
      "cell_type": "code",
      "source": "# Adjacency_matrix for undirected graph\n#Read file\nf=open(\"file.txt\")\nvertex_and_edges=f.readline();\n#print(vertex_and_edges.split())\nvertex=int(vertex_and_edges.split()[0])\nedges=int(vertex_and_edges.split()[1])\n\n#create empty matrix\ngraph=[]\nfor i in range(vertex):\n    row=[]\n    for j in range(vertex):\n        row.append(0)\n    graph.append(row)\n# print(graph)\n\n#populate graph data in list\nfor line in f.readlines():\n    u=int(line.split()[0])\n    v=int(line.split()[1])\n    graph[u][v]=1\n    graph[v][u]=1\nprint(graph)\n\n# Finding the degree of each node\ndef degree_of_node(graph, node):\n    return sum(graph[node])\ndegree = degree_of_node(graph, 3)\nprint(f\"degree:{degree}\")\n\n# for node in range(vertex):\n#     degree = sum(graph[node])\n#     # print(f\"Degree of the {node}: {degree}\")\n\n# Function to find the node with highest degree\ndef node_with_highest_degree(graph):\n    max_degree = -1\n    node_with_max_degree = -1\n    for node in range(len(graph)):\n        degree = degree_of_node(graph, node)\n        if degree > max_degree:\n            max_degree = degree\n            node_with_max_degree = node\n    return node_with_max_degree\n    \nhighest_degree_node = node_with_highest_degree(graph)\nprint(f\"highest degree of node {highest_degree_node} with degree: {degree_of_node(graph, highest_degree_node)}\")\nf.close()",
      "metadata": {
        "trusted": true
      },
      "outputs": [
        {
          "name": "stdout",
          "text": "[[0, 1, 1, 0, 1], [1, 0, 1, 1, 0], [1, 1, 0, 1, 0], [0, 1, 1, 0, 1], [1, 0, 0, 1, 0]]\ndegree:3\nhighest degree: 0 with degree: 3\n",
          "output_type": "stream"
        }
      ],
      "execution_count": 11
    },
    {
      "cell_type": "code",
      "source": "# Adjacency matrix for directed graph\nf=open(\"new_file.txt\")\nvertex_and_edges=f.readline();\n#print(vertex_and_edges.split())\nvertex=int(vertex_and_edges.split()[0])\nedges=int(vertex_and_edges.split()[1])\n\n#create empty matrix\ngraph=[]\nfor i in range(vertex):\n    row=[]\n    for j in range(vertex):\n        row.append(0)\n    graph.append(row)\n\n#populate graph data in list\nfor line in f.readlines():\n    u=int(line.split()[0])\n    v=int(line.split()[1])\n    graph[u][v]=1\nprint(f\"{graph}\")\n\ndef indegree(graph, node):\n    indeg = 0\n    for row in graph:\n        indeg = indeg + row[node]\n    return indeg\n\ndef outdegree(graph, node):\n    outdeg = sum(graph[node])\n    return outdeg\n\nin_de = indegree(graph, 2)\nout_de = outdegree(graph, 1)\n\nprint(f\"indegree:{in_de}\")\nprint(f\"outdegree:{out_de}\")",
      "metadata": {
        "trusted": true
      },
      "outputs": [
        {
          "name": "stdout",
          "text": "[[0, 1, 0, 0], [0, 0, 1, 1], [0, 0, 0, 1], [1, 0, 0, 0]]\nindegree:1\noutdegree:2\n",
          "output_type": "stream"
        }
      ],
      "execution_count": 1
    },
    {
      "cell_type": "code",
      "source": "# Adding weight randomly\nimport random as r\n# Adjacency matrix for directed graph\nf=open(\"new_file.txt\")\nvertex_and_edges=f.readline();\n#print(vertex_and_edges.split())\nvertex=int(vertex_and_edges.split()[0])\nedges=int(vertex_and_edges.split()[1])\n\n#create empty matrix\ngraph=[]\nfor i in range(vertex):\n    row=[]\n    for j in range(vertex):\n        row.append(0)\n    graph.append(row)\n\n#populate graph data in list\nfor line in f.readlines():\n    u=int(line.split()[0])\n    v=int(line.split()[1])\n    weight = r.randint(1, 11)\n    graph[u][v] = weight\nprint(f\"{graph}\")",
      "metadata": {
        "trusted": true
      },
      "outputs": [
        {
          "name": "stdout",
          "text": "[[0, 4, 0, 0], [0, 0, 11, 6], [0, 0, 0, 10], [2, 0, 0, 0]]\n",
          "output_type": "stream"
        }
      ],
      "execution_count": 8
    },
    {
      "cell_type": "code",
      "source": "# Adjacency List - (undir, dir)\n#Read file\nf=open(\"new_file.txt\")\nvertex_and_edges=f.readline();\n#print(vertex_and_edges.split())\nvertex=int(vertex_and_edges.split()[0])\nedges=int(vertex_and_edges.split()[1])\n\n#create empty list\nList={}\nfor i in range(vertex):\n    List[i]=[]\n# print(List)\n\n#populate graph data in list\nfor line in f.readlines():\n    u=int(line.split()[0])\n    v=int(line.split()[1])\n    List[u].append(v)\n    # List[v].append(u)\nprint(List)\n\ndef adjacent(u, li):\n    return li[u]\n\nadj=adjacent(0,List)\nprint(adj)\n",
      "metadata": {
        "trusted": true
      },
      "outputs": [
        {
          "name": "stdout",
          "text": "{0: [1], 1: [2, 3], 2: [3], 3: [0]}\n[1]\n",
          "output_type": "stream"
        }
      ],
      "execution_count": 8
    },
    {
      "cell_type": "code",
      "source": "def indegree(M,u):\n    c=0\n    for i in  range(len(M[u])):\n        if M[i][u]==1:\n            c=c+1\n    return c\ndef outdegree(M,u):\n    c=0\n    for i in  range(len(M[u])):\n        if M[u][i]==1:\n            c=c+1\n    return c\n#Read file\nf=open(\"d.txt\")\nvertex_and_edges=f.readline();\n#print(vertex_and_edges.split())\nvertex=int(vertex_and_edges.split()[0])\nedges=int(vertex_and_edges.split()[1])\n\n#create empty matrix\ngraph=[]\nfor i in range(vertex):\n    row=[]\n    for j in range(vertex):\n        row.append(0)\n    graph.append(row)\n#print(graph)\n\n#populate graph data in list\n\nfor line in f.readlines():\n    u=int(line.split()[0])\n    v=int(line.split()[1])\n    graph[u][v]=1\nindeg=indegree(graph,4)\nprint(indeg)\nout=outdegree(graph,4)\nprint(out)",
      "metadata": {
        "trusted": true
      },
      "outputs": [],
      "execution_count": null
    }
  ]
}